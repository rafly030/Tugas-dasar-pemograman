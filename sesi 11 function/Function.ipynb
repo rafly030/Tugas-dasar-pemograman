{
  "cells": [
    {
      "cell_type": "markdown",
      "metadata": {
        "id": "SobnYQ-x4eFH"
      },
      "source": [
        "<h2>Pengertian</h2>\n",
        "<ol>\n",
        "    <li>Fungsi pada python adalah kumpulan perintah atau baris kode yang dikelompokkan menjadi satu kesatuan untuk kemudian bisa dipanggil atau digunakan berkali-kali.</li>\n",
        "    <li>Sebuah fungsi dapat menerima parameter, dapat mengembalikan suatu nilai, dan dapat dipanggil berkali-kali secara independen.</li>\n",
        "</ol>\n",
        "<hr>\n",
        "<h2>Keuntungan</h2>\n",
        "<ol>\n",
        "    <li>Membagi kode program menjadi bagian-bagian kecil dengan tugasnya masing-masing.</li>\n",
        "    <li>Membuat kode program menjadi lebih “reusable” dan lebih terstruktur.</li>\n",
        "</ol>\n",
        "<hr>\n",
        "<h2>Sintaks</h2>\n",
        "\n",
        "```python\n",
        "def function_name():\n",
        "    Logic Program\n",
        "```\n",
        "Cara memanggil fungsi dengan menuliskan function_name diikuti kurung buka tutup () beserta parameter jika ada\n",
        "\n",
        "```python\n",
        "    function_name()\n",
        "```\n",
        "<hr>\n",
        "Buatlah fungsi dengan nama \"helloPython\" yang berfungsi untuk mencetak \"Welcome in Python Language\" "
      ]
    },
    {
      "cell_type": "code",
      "execution_count": 1,
      "metadata": {
        "id": "MNUfmFp24eFP",
        "outputId": "1862cb84-9dc6-4eda-b44a-4154a9d0f1bf",
        "colab": {
          "base_uri": "https://localhost:8080/"
        }
      },
      "outputs": [
        {
          "output_type": "stream",
          "name": "stdout",
          "text": [
            "Welcome in Python Languange\n",
            "Welcome in Python Languange\n"
          ]
        }
      ],
      "source": [
        "nama = \"Welcome in Python Languange\"\n",
        "\n",
        "def helloPython():\n",
        "    print(nama)\n",
        "\n",
        "def outname():\n",
        "    print(nama)\n",
        "\n",
        "helloPython()\n",
        "outname()"
      ]
    },
    {
      "cell_type": "markdown",
      "metadata": {
        "id": "j-3GFMY64eFQ"
      },
      "source": [
        "<h1>Fungsi dengan parameter</h1>\n",
        "Sebuah fungsi dapat menerima parameter ataupun argumen yang merupakan suatu nilai/variabel yang dilemparkan ke dalam fungsi untuk diproses lebih lanjut.\n",
        "\n",
        "<h2>Sintaks</h2>\n",
        "\n",
        "```python\n",
        "def function_name(param):\n",
        "    Logic Program\n",
        "```\n",
        "Cara memanggil fungsi dengan menuliskan function_name diikuti kurung buka tutup () beserta parameter\n",
        "\n",
        "```python\n",
        "    function_name(param)\n",
        "```\n",
        "<hr>"
      ]
    },
    {
      "cell_type": "markdown",
      "metadata": {
        "id": "lAiniKJc4eFS"
      },
      "source": [
        "Buatlah fungsi dengan nama \"fullName\" yang mempunyai parameter \"firstname\" dan \"lastname\" digunakan untuk mencetak \"firstname\" dan \"lastname\""
      ]
    },
    {
      "cell_type": "code",
      "execution_count": 2,
      "metadata": {
        "id": "hLTHB-VJ4eFT",
        "outputId": "10d98018-512f-465e-e748-bb75af552231",
        "colab": {
          "base_uri": "https://localhost:8080/"
        }
      },
      "outputs": [
        {
          "output_type": "stream",
          "name": "stdout",
          "text": [
            "Rafly Nur Rivandi\n"
          ]
        }
      ],
      "source": [
        "def fullName(fristname,lastname):\n",
        "    print(f\"{fristname} {lastname}\")\n",
        "\n",
        "fullName(\"Rafly\",\"Nur Rivandi\")"
      ]
    },
    {
      "cell_type": "markdown",
      "metadata": {
        "id": "OQpO53gX4eFV"
      },
      "source": [
        "Parameter fungsi diperbolehkan menggunakan lebih dari 1, dimana paramater tersebut ada yang wajib harus diisi dan ada yang tidak harus diisi\n",
        "\n",
        "```python\n",
        "def function_name(param_1, param_2, param_3,....):\n",
        "    Logic Program\n",
        "```\n",
        "\n",
        "Cara memanggil fungsi dengan menuliskan function_name diikuti kurung buka tutup () beserta parameter\n",
        "\n",
        "```python\n",
        "    function_name(param_1, param_2, param_3)\n",
        "```\n",
        "<hr>\n",
        "Buatlah fungsi dengan nama maxValue yang mempunyai parameter \"val_1\",\"val_2\" dan \"val_3\" yang bertujuan untuk mencari nilai terbesar dari 3 nilai tersebut"
      ]
    },
    {
      "cell_type": "code",
      "execution_count": 3,
      "metadata": {
        "id": "R3pLCAet4eFW",
        "outputId": "c55cc868-e270-4481-f2a1-fd13582fc9a0",
        "colab": {
          "base_uri": "https://localhost:8080/"
        }
      },
      "outputs": [
        {
          "output_type": "stream",
          "name": "stdout",
          "text": [
            "Nilai terbesar adalah -5\n"
          ]
        }
      ],
      "source": [
        "def maxValue(val_1, val_2, val_3):\n",
        "  max_val = max(val_1, val_2, val_3)\n",
        "  print(f\"Nilai terbesar adalah {max_val}\")\n",
        "    \n",
        "maxValue(-5, -10, -15)"
      ]
    },
    {
      "cell_type": "markdown",
      "metadata": {
        "id": "_SyPrbEg4eFX"
      },
      "source": [
        "Parameter opsional digunakan pada fungsi dengan cara memberikan nilai default, artinya nilai parameter sudah diberikan terlebih dahulu tanpa dipanggil\n",
        "\n",
        "```python\n",
        "def function_name(param_1, param_2, param_3 = 'Nilai'):\n",
        "    Logic Program\n",
        "```"
      ]
    },
    {
      "cell_type": "markdown",
      "metadata": {
        "id": "DrQLjws84eFY"
      },
      "source": [
        "Buatlah fungsi \"countCircleArea\" dengan 2 parameter yaitu \"phi\" dan \"diameter\" dimana parameter phi mempunyai nilai default 3.14"
      ]
    },
    {
      "cell_type": "code",
      "execution_count": 4,
      "metadata": {
        "id": "LHZ_zwI-4eFZ",
        "outputId": "a0cb8e50-8881-4b6d-bacf-11ba42a1ab0f",
        "colab": {
          "base_uri": "https://localhost:8080/"
        }
      },
      "outputs": [
        {
          "output_type": "stream",
          "name": "stdout",
          "text": [
            "21.5\n"
          ]
        }
      ],
      "source": [
        "def countCircleArea(diameter,phi=3.14):\n",
        "    r = diameter/2\n",
        "    return phi * r * r\n",
        "\n",
        "\n",
        "def countSquareArea(sisi):\n",
        "    return sisi*sisi\n",
        "\n",
        "def calculate(val_circle,val_square):\n",
        "    circle = countCircleArea(val_circle)\n",
        "    square = countSquareArea(val_square)\n",
        "    return square - circle\n",
        "\n",
        "print(calculate(10,10))\n"
      ]
    },
    {
      "cell_type": "markdown",
      "metadata": {
        "id": "ZNT6P4-Z4eFZ"
      },
      "source": [
        "Fungsi dengan 2 Parameter opsional juga dapat dilakukan pada Python. \n",
        "\n",
        "```python\n",
        "def info(suhu, daerah='Sukabumi', satuan = 'Celcius'):\n",
        "    print(f\"Suhu sekarang di {daerah} : {suhu} {satuan} \")\n",
        "```\n",
        "Adapun Cara memanggilnya\n",
        "\n",
        "```python\n",
        "    info(30)\n",
        "```"
      ]
    },
    {
      "cell_type": "code",
      "execution_count": 5,
      "metadata": {
        "id": "TVzqX6bY4eFa",
        "outputId": "1bba5acb-a7e1-407d-ce72-d0406752c732",
        "colab": {
          "base_uri": "https://localhost:8080/"
        }
      },
      "outputs": [
        {
          "output_type": "stream",
          "name": "stdout",
          "text": [
            "suhu di sukabumi : 30 celcius\n",
            "suhu di Depok : 20 celcius\n",
            "suhu di sukabumi : 30 Jaksel Gas Ngab\n"
          ]
        }
      ],
      "source": [
        "#Cobalah fungsi tersebut pada area kode disini\n",
        "def info(suhu,daerah='sukabumi',satuan='celcius'):\n",
        "    print(f\"suhu di {daerah} : {suhu} {satuan}\")\n",
        "\n",
        "info(30)\n",
        "info(20,'Depok')\n",
        "\n",
        "info(30,satuan=\"Jaksel\"+ \" \"+\"Gas Ngab\")\n"
      ]
    },
    {
      "cell_type": "markdown",
      "metadata": {
        "id": "Uxjuhbmk4eFb"
      },
      "source": [
        "<h1>Fungsi dengan Return Value</h1>\n",
        "\n",
        "Yaitu fungsi dimana akhir dari programnya adalah nilai kembalian atau nilai balik. Artinya nilai dalam fungsi dapat ditampung lagi ke variabel lain untuk digunakan operasi lebih lanjut.\n",
        "\n",
        "Buatlah fungsi dengan return value yang digunakan untuk mengecek sebuah bilangan termasuk bilangan negatif, bilangan neteral(0) dan bilangan positif"
      ]
    },
    {
      "cell_type": "code",
      "execution_count": 6,
      "metadata": {
        "id": "TQPs6Wid4eFc",
        "outputId": "3bd8a2e0-8507-4eb7-8d71-55cc5df59bfb",
        "colab": {
          "base_uri": "https://localhost:8080/"
        }
      },
      "outputs": [
        {
          "output_type": "stream",
          "name": "stdout",
          "text": [
            "Bilangan Positif\n"
          ]
        }
      ],
      "source": [
        "\n",
        "def check_number(n):\n",
        "    if n < 0:\n",
        "        hasil = \"Bilangan Negatif\"\n",
        "        return hasil\n",
        "    elif n == 0:\n",
        "        hasil = \"Bilangan Netral\"\n",
        "        return hasil\n",
        "    else:\n",
        "        hasil = \"Bilangan Positif\"\n",
        "        return hasil\n",
        "\n",
        "result = check_number(12)\n",
        "print(f\"{result}\")"
      ]
    },
    {
      "cell_type": "markdown",
      "metadata": {
        "id": "pWs8Yvdo4eFc"
      },
      "source": [
        "<h3>Soal Latihan</h3>\n",
        "<ol>\n",
        "    <li>Buatlah fungsi untuk menjumlahkan total nilai dari list</li>\n",
        "    <li>Buatlah fungsi untuk mencari nilai terbesar dari sekumpulan list </li>\n",
        "    <li>Buatlah fungsi untuk menjumlahkan 2 buah list </li>\n",
        "</ol>\n"
      ]
    },
    {
      "cell_type": "code",
      "execution_count": 7,
      "metadata": {
        "id": "wZOxOGN54eFd",
        "outputId": "f383b682-dcd0-49d4-d5b6-ec6f58d8f7ae",
        "colab": {
          "base_uri": "https://localhost:8080/"
        }
      },
      "outputs": [
        {
          "output_type": "stream",
          "name": "stdout",
          "text": [
            "37\n"
          ]
        }
      ],
      "source": [
        "#Soal 1\n",
        "def jumList(values):\n",
        "  total = 0\n",
        "  for value in values:\n",
        "    total += value\n",
        "  return total\n",
        "\n",
        "values = [1, 7, 10, 4, 15]\n",
        "result = jumList(values)\n",
        "print(result)"
      ]
    },
    {
      "cell_type": "code",
      "execution_count": 8,
      "metadata": {
        "id": "NdQjWo-V4eFd",
        "outputId": "8ea69212-8541-413d-b2ff-84b46f906e8a",
        "colab": {
          "base_uri": "https://localhost:8080/"
        }
      },
      "outputs": [
        {
          "output_type": "stream",
          "name": "stdout",
          "text": [
            "1000\n"
          ]
        }
      ],
      "source": [
        "#Soal 2\n",
        "def nilaiMax(values):\n",
        "    maxValue = values[0]\n",
        "    for value in values:\n",
        "        if value > maxValue:\n",
        "            maxValue = value\n",
        "    return maxValue\n",
        "\n",
        "result = nilaiMax([100, 254, 345, 1000])\n",
        "print(result)\n"
      ]
    },
    {
      "cell_type": "code",
      "execution_count": 9,
      "metadata": {
        "id": "hMWWZgYB4eFd",
        "outputId": "4accbfc2-9761-43b0-eb22-0ddbc334aa9b",
        "colab": {
          "base_uri": "https://localhost:8080/"
        }
      },
      "outputs": [
        {
          "output_type": "stream",
          "name": "stdout",
          "text": [
            "[8, 10, 12]\n"
          ]
        }
      ],
      "source": [
        "#Soal 3\n",
        "def gabungList(list1, list2):\n",
        "    result = []\n",
        "    for i in range(len(list1)):\n",
        "        result.append(list1[i] + list2[i])\n",
        "    return result\n",
        "\n",
        "result = gabungList([2,3,4], [6,7,8])\n",
        "print(result)"
      ]
    }
  ],
  "metadata": {
    "kernelspec": {
      "display_name": "Python 3",
      "language": "python",
      "name": "python3"
    },
    "language_info": {
      "codemirror_mode": {
        "name": "ipython",
        "version": 3
      },
      "file_extension": ".py",
      "mimetype": "text/x-python",
      "name": "python",
      "nbconvert_exporter": "python",
      "pygments_lexer": "ipython3",
      "version": "3.8.5"
    },
    "colab": {
      "provenance": []
    }
  },
  "nbformat": 4,
  "nbformat_minor": 0
}