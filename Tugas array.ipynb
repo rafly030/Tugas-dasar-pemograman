{
  "cells": [
    {
      "cell_type": "markdown",
      "metadata": {
        "id": "vGfCRcshyOmp"
      },
      "source": [
        "<h1>Array</h1><br>\n",
        "<ol>\n",
        "    <li>Array adalah tipe data yang berisi kumpulan dari beberapa nilai.</li>\n",
        "    <li>Nilai yang terdapat dalam array disebut dengan elemen, dan pada setiap elemen memiliki nomor pengenal yang dikenal dengan istilah indeks</li>\n",
        "    <li>Penomoran indeks di dalam array dimulai dari angka 0, sehingga elemen pertama berada di index 0, elemen kedua berada di indeks 1, sehingga dapat disimpulkan bahwa elemen yang ke n berada pada indeks n-1</li>\n",
        "</ol>\n",
        "\n",
        "<h3>Ilustrasi Array</h3>\n",
        "<img src=\"https://galuhratna.alza.web.id/blog/wp-content/uploads/2020/03/array1D-300x82.png\"></img>\n",
        "\n",
        "<h2>Operasi Array</h2><hr>"
      ]
    },
    {
      "cell_type": "markdown",
      "source": [],
      "metadata": {
        "id": "vNHwuMD3pkvi"
      }
    },
    {
      "cell_type": "code",
      "source": [],
      "metadata": {
        "id": "uhLYXsdaplq-"
      },
      "execution_count": null,
      "outputs": []
    },
    {
      "cell_type": "markdown",
      "source": [],
      "metadata": {
        "id": "J8YJhZSfpmTu"
      }
    },
    {
      "cell_type": "markdown",
      "metadata": {
        "id": "FrjTqVM8yOm6"
      },
      "source": [
        "<h3>1. Membuat Array</h3>"
      ]
    },
    {
      "cell_type": "code",
      "execution_count": 2,
      "metadata": {
        "id": "8TxkP8HgyOm8",
        "colab": {
          "base_uri": "https://localhost:8080/"
        },
        "outputId": "7fd48104-c493-42b3-f02a-8b3c50b1ce10"
      },
      "outputs": [
        {
          "output_type": "stream",
          "name": "stdout",
          "text": [
            "array('i', [10, 20, 30, 40, 90, 80])\n"
          ]
        }
      ],
      "source": [
        "#import library array sebagai alias\n",
        "\n",
        "import array as arr\n",
        "arr_int = arr.array('i',[10,20,30,40,90,80])\n",
        "\n",
        "print(arr_int)"
      ]
    },
    {
      "cell_type": "markdown",
      "metadata": {
        "id": "nl5iHPFdyOpi"
      },
      "source": [
        "<h3>2. Mengakses Array</h3>\n"
      ]
    },
    {
      "cell_type": "code",
      "execution_count": null,
      "metadata": {
        "scrolled": true,
        "id": "xKWQUUTUyOpk",
        "colab": {
          "base_uri": "https://localhost:8080/"
        },
        "outputId": "dc00c561-ef4b-40a4-ef00-c17bdf85b8bb"
      },
      "outputs": [
        {
          "output_type": "stream",
          "name": "stdout",
          "text": [
            "elemen array terakhir: 80\n",
            "10\n",
            "20\n",
            "30\n",
            "40\n",
            "90\n",
            "80\n",
            "--------------------------------\n",
            "10\n",
            "30\n",
            "60\n",
            "100\n",
            "190\n",
            "270\n",
            "nilai rata-rata: 45.0\n"
          ]
        }
      ],
      "source": [
        "pjg_array = len(arr_int)\n",
        "print(\"elemen array terakhir:\",arr_int[pjg_array-1])\n",
        "\n",
        "#Looping mengakses nilai elemen tanpa mengetahui indeks\n",
        "for i in arr_int:\n",
        "    print(i)\n",
        "print('--------------------------------')  \n",
        "#looping mengakses nilai elemen dengan paramter indeks\n",
        "total = 0\n",
        "for j in range(pjg_array):\n",
        "    total = total + arr_int[j]\n",
        "    print(total)\n",
        "rata2 = total / pjg_array\n",
        "print(f\"nilai rata-rata: {rata2}\")"
      ]
    },
    {
      "cell_type": "markdown",
      "metadata": {
        "id": "qQRmc5gxyOpn"
      },
      "source": [
        "<h3>3. Menambah Array</h3> "
      ]
    },
    {
      "cell_type": "code",
      "execution_count": null,
      "metadata": {
        "id": "MYG4w5VzyOqK",
        "colab": {
          "base_uri": "https://localhost:8080/"
        },
        "outputId": "c844dec1-306b-47e9-95b6-36b9656bccd9"
      },
      "outputs": [
        {
          "output_type": "stream",
          "name": "stdout",
          "text": [
            "array('i', [10, 20, 30, 66, 40, 90, 80])\n"
          ]
        }
      ],
      "source": [
        "posisi = 3\n",
        "nilai = 66\n",
        "arr_int.insert(posisi,nilai)\n",
        "print(arr_int)"
      ]
    },
    {
      "cell_type": "markdown",
      "metadata": {
        "id": "BDG8iHwjyOql"
      },
      "source": [
        "<h3>4. Mengupdate Array</h3>"
      ]
    },
    {
      "cell_type": "code",
      "execution_count": null,
      "metadata": {
        "id": "fcBMLJImyOqn",
        "colab": {
          "base_uri": "https://localhost:8080/"
        },
        "outputId": "16bb7dc3-fd07-4bea-80cd-7c6a686b2be4"
      },
      "outputs": [
        {
          "output_type": "stream",
          "name": "stdout",
          "text": [
            "array('i', [80, 20, 30, 66, 40, 90, 80])\n"
          ]
        }
      ],
      "source": [
        "arr_int[0] = 80\n",
        "print(arr_int)"
      ]
    },
    {
      "cell_type": "markdown",
      "metadata": {
        "id": "NPJTiul6yOqz"
      },
      "source": [
        "<h3>5. Menghapus Array</h3>"
      ]
    },
    {
      "cell_type": "code",
      "execution_count": null,
      "metadata": {
        "id": "bEIEWDgSyOq2",
        "colab": {
          "base_uri": "https://localhost:8080/"
        },
        "outputId": "ab0d402a-a2e0-49a9-a3ea-80645d19c5d6"
      },
      "outputs": [
        {
          "output_type": "stream",
          "name": "stdout",
          "text": [
            "array('i', [20, 30, 66, 40, 90, 80])\n",
            "array('i', [20, 30, 66, 40, 90])\n"
          ]
        }
      ],
      "source": [
        "arr_int.remove(80)\n",
        "print(arr_int)\n",
        "\n",
        "arr_int.pop()\n",
        "print(arr_int)"
      ]
    },
    {
      "cell_type": "markdown",
      "metadata": {
        "id": "k6S1ujPZyOq4"
      },
      "source": [
        "<h3>6. Mencari Array</h3>"
      ]
    },
    {
      "cell_type": "code",
      "execution_count": null,
      "metadata": {
        "id": "hDiPpYHvyOq6",
        "colab": {
          "base_uri": "https://localhost:8080/"
        },
        "outputId": "0a76c603-adbb-4a19-f871-a20f1bd428d6"
      },
      "outputs": [
        {
          "output_type": "execute_result",
          "data": {
            "text/plain": [
              "1"
            ]
          },
          "metadata": {},
          "execution_count": 11
        }
      ],
      "source": [
        "arr_int.index(30)"
      ]
    },
    {
      "cell_type": "markdown",
      "metadata": {
        "id": "OFJOK-bzyOq7"
      },
      "source": [
        "<h3>Latihan Soal</h3>"
      ]
    },
    {
      "cell_type": "markdown",
      "metadata": {
        "id": "2weEVyrTyOsO"
      },
      "source": [
        "1. Sebuah kamar kost di daerah cisaat terdiri dari 1 lantai dan 10 kamar. Pemilik kost menandai kamar dengan tanda 'O' jika ada penghuninya dan tanda 'X' jika masih kosong. Reperesentasikan permasalahan tersebut dimana kamar yang sudah terisi adalah kamar 2,4,7 dan 9. "
      ]
    },
    {
      "cell_type": "code",
      "execution_count": null,
      "metadata": {
        "id": "60pfIbP-yOsV",
        "colab": {
          "base_uri": "https://localhost:8080/"
        },
        "outputId": "7ce92bfd-054a-4e45-e4f9-8cbf221a0566"
      },
      "outputs": [
        {
          "output_type": "stream",
          "name": "stdout",
          "text": [
            "array('u')\n",
            "array('u', 'OXOXXOXOXX')\n"
          ]
        }
      ],
      "source": [
        "#import library array\n",
        "\n",
        "kamar=arr.array('u',[])\n",
        "print(kamar)\n",
        "\n",
        "kamar=arr.array('u',[])\n",
        "for i in range(10):\n",
        "  if i+1==2 or i+1==4 or i+1==7 or i+1==9:\n",
        "    kamar.insert(i-1,'O')\n",
        "  else:\n",
        "    kamar.insert(i+1,'X')\n",
        "print(kamar)"
      ]
    },
    {
      "cell_type": "markdown",
      "metadata": {
        "id": "7cwxR3_vyOsW"
      },
      "source": [
        "2. Berdasarkan soal 1, hitunglah berapa jumlah kamar yang masih kosong dan sebutkan kamar nomor berapa saja!"
      ]
    },
    {
      "cell_type": "code",
      "execution_count": 6,
      "metadata": {
        "id": "D7XmGiohyOsY",
        "outputId": "28db1155-52a5-4e1f-8a1e-6e830c96c3df",
        "colab": {
          "base_uri": "https://localhost:8080/",
          "height": 235
        }
      },
      "outputs": [
        {
          "output_type": "error",
          "ename": "NameError",
          "evalue": "ignored",
          "traceback": [
            "\u001b[0;31m---------------------------------------------------------------------------\u001b[0m",
            "\u001b[0;31mNameError\u001b[0m                                 Traceback (most recent call last)",
            "\u001b[0;32m<ipython-input-6-ab707914b751>\u001b[0m in \u001b[0;36m<module>\u001b[0;34m\u001b[0m\n\u001b[1;32m      1\u001b[0m \u001b[0;31m#Your Code here\u001b[0m\u001b[0;34m\u001b[0m\u001b[0;34m\u001b[0m\u001b[0;34m\u001b[0m\u001b[0m\n\u001b[1;32m      2\u001b[0m \u001b[0mtotal\u001b[0m \u001b[0;34m=\u001b[0m \u001b[0;36m0\u001b[0m\u001b[0;34m\u001b[0m\u001b[0;34m\u001b[0m\u001b[0m\n\u001b[0;32m----> 3\u001b[0;31m \u001b[0;32mfor\u001b[0m \u001b[0mi\u001b[0m \u001b[0;32min\u001b[0m \u001b[0mkamar\u001b[0m\u001b[0;34m:\u001b[0m\u001b[0;34m\u001b[0m\u001b[0;34m\u001b[0m\u001b[0m\n\u001b[0m\u001b[1;32m      4\u001b[0m     \u001b[0;32mif\u001b[0m \u001b[0mi\u001b[0m \u001b[0;34m==\u001b[0m\u001b[0;34m'X'\u001b[0m\u001b[0;34m:\u001b[0m\u001b[0;34m\u001b[0m\u001b[0;34m\u001b[0m\u001b[0m\n\u001b[1;32m      5\u001b[0m        \u001b[0mtotal\u001b[0m \u001b[0;34m=\u001b[0m \u001b[0mtotal\u001b[0m \u001b[0;34m+\u001b[0m \u001b[0;36m1\u001b[0m\u001b[0;34m\u001b[0m\u001b[0;34m\u001b[0m\u001b[0m\n",
            "\u001b[0;31mNameError\u001b[0m: name 'kamar' is not defined"
          ]
        }
      ],
      "source": [
        "#Your Code here\n",
        "total = 0\n",
        "for i in kamar:\n",
        "    if i =='X':\n",
        "       total = total + 1\n",
        "\n",
        "print(f\"Kamar yang masih kosong sebanyak {total}\")\n",
        "\n",
        "#Mengecek bilangan prima atau bukan\n",
        "\n",
        "bilangan = 19\n",
        "jml_0 = 0\n",
        "for i in range (bilangan):\n",
        "    sisa = bilangan % (i+1)\n",
        "    if sisa == 0:\n",
        "        jml_0 = jml_0 + 1\n",
        "if jml_0==2:\n",
        "    print(\"Bilangan Prima\")\n",
        "else:\n",
        "  print(\"Bukan Prima\")      "
      ]
    },
    {
      "cell_type": "markdown",
      "metadata": {
        "id": "hO-Br96SyOsa"
      },
      "source": [
        "3. Pada tahun 2022 pemilik kost ingin mengubah fungsi kamar kost menjadi rumah pribadi, sehingga kamar kost tersebut dirobohkan. Representasikan permasalahan tersebut kedalam fungsi array"
      ]
    },
    {
      "cell_type": "code",
      "execution_count": 7,
      "metadata": {
        "id": "0gK5229AyOsc",
        "outputId": "536f95db-e75a-43c8-adf3-4e28e50553cb",
        "colab": {
          "base_uri": "https://localhost:8080/",
          "height": 235
        }
      },
      "outputs": [
        {
          "output_type": "error",
          "ename": "NameError",
          "evalue": "ignored",
          "traceback": [
            "\u001b[0;31m---------------------------------------------------------------------------\u001b[0m",
            "\u001b[0;31mNameError\u001b[0m                                 Traceback (most recent call last)",
            "\u001b[0;32m<ipython-input-7-3f3c0f184195>\u001b[0m in \u001b[0;36m<module>\u001b[0;34m\u001b[0m\n\u001b[1;32m      1\u001b[0m \u001b[0;31m#Your code here\u001b[0m\u001b[0;34m\u001b[0m\u001b[0;34m\u001b[0m\u001b[0;34m\u001b[0m\u001b[0m\n\u001b[0;32m----> 2\u001b[0;31m \u001b[0mprint\u001b[0m\u001b[0;34m(\u001b[0m\u001b[0mkamar\u001b[0m\u001b[0;34m)\u001b[0m\u001b[0;34m\u001b[0m\u001b[0;34m\u001b[0m\u001b[0m\n\u001b[0m\u001b[1;32m      3\u001b[0m \u001b[0;34m\u001b[0m\u001b[0m\n\u001b[1;32m      4\u001b[0m \u001b[0;32mfor\u001b[0m \u001b[0mi\u001b[0m \u001b[0;32min\u001b[0m \u001b[0mrange\u001b[0m\u001b[0;34m(\u001b[0m\u001b[0mlen\u001b[0m\u001b[0;34m(\u001b[0m\u001b[0mkamar\u001b[0m\u001b[0;34m)\u001b[0m\u001b[0;34m)\u001b[0m\u001b[0;34m:\u001b[0m\u001b[0;34m\u001b[0m\u001b[0;34m\u001b[0m\u001b[0m\n\u001b[1;32m      5\u001b[0m     \u001b[0mkamar\u001b[0m\u001b[0;34m.\u001b[0m\u001b[0mpop\u001b[0m\u001b[0;34m(\u001b[0m\u001b[0;34m)\u001b[0m\u001b[0;34m\u001b[0m\u001b[0;34m\u001b[0m\u001b[0m\n",
            "\u001b[0;31mNameError\u001b[0m: name 'kamar' is not defined"
          ]
        }
      ],
      "source": [
        "#Your code here\n",
        "print(kamar)\n",
        "\n",
        "for i in range(len(kamar)):\n",
        "    kamar.pop()\n",
        "print(kamar)     "
      ]
    },
    {
      "cell_type": "markdown",
      "metadata": {
        "id": "b35s-26NyOsc"
      },
      "source": [
        "4. Seorang penjual tahu menata raknya seperti berikut ini: <br>\n",
        "[10,10,10,10,10,10,10,10,10,10]<br>\n",
        "Setiap 1 tahu dijual dengan harga 1_000. Buatlah implementasi program yang mempunyai input uang dan jumlah tahu yang akan dibeli. Contoh input outputnya seperti berikut ini:<br>\n",
        "input uang : 100_000<br>\n",
        "jumlah tahu yang akan dibeli: 20<br>\n",
        "\n",
        "Output:<br>\n",
        "Total harga yang dibeli : 20_000<br>\n",
        "Uang Kembali : 80_000<br>\n",
        "Sisa Tahu : 80<br>\n",
        "Posisi Akhir Rak : [0,0,10,10,10,10,10,10,10,10]"
      ]
    },
    {
      "cell_type": "code",
      "execution_count": 11,
      "metadata": {
        "id": "eFHTWNlZyOsd",
        "outputId": "aec2b3ad-35de-4edf-efb6-47c7ed8ef764",
        "colab": {
          "base_uri": "https://localhost:8080/"
        }
      },
      "outputs": [
        {
          "output_type": "stream",
          "name": "stdout",
          "text": [
            "berapa uang yang akan di bayarkan: 100000\n",
            "berapa tahu yang akan di beli: 20\n",
            "stok tersedia\n",
            "sisa tahu:  80\n",
            "total harga:  20000\n",
            "jumlah kembalian:  80000\n",
            "[0, 0, 10, 10, 10, 10, 10, 10, 10, 10]\n"
          ]
        }
      ],
      "source": [
        "#Your code here\n",
        "Stok_tahu=[10,10,10,10,10,10,10,10,10,10]\n",
        "harga=1000\n",
        "Jumlah_pembayaran=int(input('berapa uang yang akan di bayarkan: '))\n",
        "Jumlah_tahu_yang_dibeli=int(input('berapa tahu yang akan di beli: '))\n",
        "\n",
        "\n",
        "\n",
        "total_tahu_didapat=Jumlah_pembayaran/harga\n",
        "if Jumlah_tahu_yang_dibeli >= (len(Stok_tahu)*10):\n",
        "    print('stok tidak mencukupi')\n",
        "\n",
        "else:\n",
        "    print('stok tersedia')\n",
        "    total_harga=Jumlah_tahu_yang_dibeli*1000\n",
        "    \n",
        "    if Jumlah_pembayaran >= total_harga:\n",
        "        if True:\n",
        "            if Jumlah_tahu_yang_dibeli <= 10:\n",
        "                Stok_tahu[0]=Stok_tahu[0]-Jumlah_tahu_yang_dibeli\n",
        "                print(Stok_tahu)\n",
        "            elif Jumlah_tahu_yang_dibeli<= 20:\n",
        "                print('sisa tahu: ',(len(Stok_tahu)*10)-Jumlah_tahu_yang_dibeli)\n",
        "                Jumlah_tahu_yang_dibeli=Jumlah_tahu_yang_dibeli-10\n",
        "                Stok_tahu[0]=0\n",
        "                Stok_tahu[1]=Stok_tahu[1]-Jumlah_tahu_yang_dibeli\n",
        "                print('total harga: ',total_harga)\n",
        "                print('jumlah kembalian: ',Jumlah_pembayaran-total_harga)\n",
        "                print(Stok_tahu)"
      ]
    }
  ],
  "metadata": {
    "kernelspec": {
      "display_name": "Python 3",
      "language": "python",
      "name": "python3"
    },
    "language_info": {
      "codemirror_mode": {
        "name": "ipython",
        "version": 3
      },
      "file_extension": ".py",
      "mimetype": "text/x-python",
      "name": "python",
      "nbconvert_exporter": "python",
      "pygments_lexer": "ipython3",
      "version": "3.8.5"
    },
    "colab": {
      "provenance": []
    }
  },
  "nbformat": 4,
  "nbformat_minor": 0
}